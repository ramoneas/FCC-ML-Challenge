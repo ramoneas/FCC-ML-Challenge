{
  "cells": [
    {
      "cell_type": "markdown",
      "metadata": {
        "id": "view-in-github",
        "colab_type": "text"
      },
      "source": [
        "<a href=\"https://colab.research.google.com/github/ramoneas/FCC-ML-Challenge/blob/main/fcc_predict_health_costs_with_regression.ipynb\" target=\"_parent\"><img src=\"https://colab.research.google.com/assets/colab-badge.svg\" alt=\"Open In Colab\"/></a>"
      ]
    },
    {
      "cell_type": "code",
      "execution_count": null,
      "metadata": {
        "id": "1rRo8oNqZ-Rj"
      },
      "outputs": [],
      "source": [
        "# Import libraries. You may or may not use all of these.\n",
        "!pip install -q git+https://github.com/tensorflow/docs\n",
        "import matplotlib.pyplot as plt\n",
        "import numpy as np\n",
        "import pandas as pd\n",
        "\n",
        "try:\n",
        "  # %tensorflow_version only exists in Colab.\n",
        "  %tensorflow_version 2.x\n",
        "except Exception:\n",
        "  pass\n",
        "import tensorflow as tf\n",
        "\n",
        "from tensorflow import keras\n",
        "from tensorflow.keras import layers\n",
        "\n",
        "import tensorflow_docs as tfdocs\n",
        "import tensorflow_docs.plots\n",
        "import tensorflow_docs.modeling"
      ]
    },
    {
      "cell_type": "code",
      "execution_count": null,
      "metadata": {
        "id": "CiX2FI4gZtTt"
      },
      "outputs": [],
      "source": [
        "# Import data\n",
        "!wget https://cdn.freecodecamp.org/project-data/health-costs/insurance.csv\n",
        "dataset = pd.read_csv('insurance.csv')\n",
        "dataset.tail()"
      ]
    },
    {
      "cell_type": "code",
      "source": [
        "def apply_categorical_encoder(feature):\n",
        "  #Change to embedding layer only when the feature have 100+ categories inside\n",
        "  dataset_tensor = tf.constant(feature.values)\n",
        "  lookup_layer = tf.keras.layers.StringLookup(output_mode=\"one_hot\")\n",
        "  lookup_layer.adapt(dataset_tensor)\n",
        "\n",
        "  return tf.cast(lookup_layer(dataset_tensor), tf.float32)"
      ],
      "metadata": {
        "id": "tBTFJZ98MHpe"
      },
      "execution_count": null,
      "outputs": []
    },
    {
      "cell_type": "markdown",
      "source": [
        "Make sure to convert categorical data to numbers."
      ],
      "metadata": {
        "id": "E7OsEGQUdsr9"
      }
    },
    {
      "cell_type": "code",
      "source": [
        "sex_encoded = apply_categorical_encoder(dataset.sex)\n",
        "smoker_encoded = apply_categorical_encoder(dataset.smoker)\n",
        "region_encoded = apply_categorical_encoder(dataset.region)"
      ],
      "metadata": {
        "id": "InUm7EYAf2Fk"
      },
      "execution_count": null,
      "outputs": []
    },
    {
      "cell_type": "code",
      "source": [
        "age = tf.constant(dataset.age.values, dtype=tf.float32)\n",
        "bmi = tf.constant(dataset.bmi.values, dtype=tf.float32)\n",
        "children = tf.constant(dataset.children.values, dtype=tf.float32)\n",
        "expenses = tf.constant(dataset.expenses.values)\n",
        "expenses = tf.cast(expenses, tf.float32) #Need it cause expenses is originally float64\n",
        "\n",
        "# Stack numéricas en una sola matriz\n",
        "numerical_data = tf.stack([age, bmi, children], axis=1)"
      ],
      "metadata": {
        "id": "VSfmBV0jIfpA"
      },
      "execution_count": null,
      "outputs": []
    },
    {
      "cell_type": "code",
      "source": [
        "# Concatenamos todo\n",
        "features = tf.concat([numerical_data, sex_encoded, smoker_encoded, region_encoded], axis=1)\n",
        "encoded_dataset = tf.concat([features, tf.expand_dims(expenses, axis=1)], axis=1)"
      ],
      "metadata": {
        "id": "VuqJvp1fIbAj"
      },
      "execution_count": null,
      "outputs": []
    },
    {
      "cell_type": "markdown",
      "source": [
        "Use 80% of the data as the `train_dataset` and 20% of the data as the `test_dataset`."
      ],
      "metadata": {
        "id": "sho1VOLXpHcp"
      }
    },
    {
      "cell_type": "code",
      "execution_count": null,
      "metadata": {
        "id": "LcopvQh3X-kX"
      },
      "outputs": [],
      "source": [
        "df = tf.random.shuffle(encoded_dataset, seed=42) #Shuffle to reorder the data.\n",
        "\n",
        "# División 80/20\n",
        "train_size = int(0.8 * len(df))\n",
        "train_dataset = df[:train_size]\n",
        "test_dataset = df[train_size:]"
      ]
    },
    {
      "cell_type": "markdown",
      "source": [
        "\n",
        "`pop` off the \"expenses\" column from these datasets to create new datasets called `train_labels` and `test_labels`. Use these labels when training your model."
      ],
      "metadata": {
        "id": "-F71e2rzf4pL"
      }
    },
    {
      "cell_type": "code",
      "source": [
        "train_labels = train_dataset[:, -1]\n",
        "test_labels = test_dataset[:, -1]"
      ],
      "metadata": {
        "id": "B_3koDr0diFW"
      },
      "execution_count": null,
      "outputs": []
    },
    {
      "cell_type": "markdown",
      "source": [
        "Create a model and train it with the `train_dataset`. Run the final cell in this notebook to check your model. The final cell will use the unseen `test_dataset` to check how well the model generalizes."
      ],
      "metadata": {
        "id": "CkLX0E5-pigH"
      }
    },
    {
      "cell_type": "code",
      "source": [
        "input_shape = train_dataset[0].shape[0] #Numero de columnas.\n",
        "\n",
        "model = tf.keras.Sequential([\n",
        "    tf.keras.layers.Input(shape=(input_shape,)),\n",
        "    tf.keras.layers.Dense(1)\n",
        "])\n",
        "\n",
        "model.compile(\n",
        "    optimizer=tf.optimizers.Adam(learning_rate=0.1),\n",
        "    loss='mse',\n",
        "    metrics=['mae', 'mse']\n",
        ")"
      ],
      "metadata": {
        "id": "GdgZZz5fpgu7"
      },
      "execution_count": null,
      "outputs": []
    },
    {
      "cell_type": "code",
      "source": [
        "model.fit(train_dataset, train_labels, epochs=100)"
      ],
      "metadata": {
        "id": "cf7qQkqL6Wop"
      },
      "execution_count": null,
      "outputs": []
    },
    {
      "cell_type": "code",
      "execution_count": null,
      "metadata": {
        "id": "Xe7RXH3N3CWU"
      },
      "outputs": [],
      "source": [
        "# RUN THIS CELL TO TEST YOUR MODEL. DO NOT MODIFY CONTENTS.\n",
        "# Test model by checking how well the model generalizes using the test set.\n",
        "loss, mae, mse = model.evaluate(test_dataset, test_labels, verbose=2)\n",
        "\n",
        "print(\"Testing set Mean Abs Error: {:5.2f} expenses\".format(mae))\n",
        "\n",
        "if mae < 3500:\n",
        "  print(\"You passed the challenge. Great job!\")\n",
        "else:\n",
        "  print(\"The Mean Abs Error must be less than 3500. Keep trying.\")\n",
        "\n",
        "# Plot predictions.\n",
        "test_predictions = model.predict(test_dataset).flatten()\n",
        "\n",
        "a = plt.axes(aspect='equal')\n",
        "plt.scatter(test_labels, test_predictions)\n",
        "plt.xlabel('True values (expenses)')\n",
        "plt.ylabel('Predictions (expenses)')\n",
        "lims = [0, 50000]\n",
        "plt.xlim(lims)\n",
        "plt.ylim(lims)\n",
        "_ = plt.plot(lims,lims)\n"
      ]
    }
  ],
  "metadata": {
    "colab": {
      "name": "fcc_predict_health_costs_with_regression.ipynb",
      "private_outputs": true,
      "provenance": [],
      "include_colab_link": true
    },
    "kernelspec": {
      "display_name": "Python 3",
      "name": "python3"
    }
  },
  "nbformat": 4,
  "nbformat_minor": 0
}